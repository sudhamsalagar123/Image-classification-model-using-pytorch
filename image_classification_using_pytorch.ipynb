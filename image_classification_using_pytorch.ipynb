{
  "nbformat": 4,
  "nbformat_minor": 0,
  "metadata": {
    "colab": {
      "provenance": [],
      "authorship_tag": "ABX9TyOvASM5yytoQh9c2lvfpJ5f",
      "include_colab_link": true
    },
    "kernelspec": {
      "name": "python3",
      "display_name": "Python 3"
    },
    "language_info": {
      "name": "python"
    }
  },
  "cells": [
    {
      "cell_type": "markdown",
      "metadata": {
        "id": "view-in-github",
        "colab_type": "text"
      },
      "source": [
        "<a href=\"https://colab.research.google.com/github/sudhamsalagar123/Image-classification-model-using-pytorch/blob/main/image_classification_using_pytorch.ipynb\" target=\"_parent\"><img src=\"https://colab.research.google.com/assets/colab-badge.svg\" alt=\"Open In Colab\"/></a>"
      ]
    },
    {
      "cell_type": "markdown",
      "source": [
        "Import librais"
      ],
      "metadata": {
        "id": "RYvtmC4wY5WW"
      }
    },
    {
      "cell_type": "code",
      "source": [
        "import torch\n",
        "from torch import nn\n",
        "from torch.utils.data import DataLoader\n",
        "from torchvision import datasets\n",
        "from torchvision.transforms import ToTensor\n",
        "import matplotlib.pyplot as plt\n",
        "import numpy as np\n"
      ],
      "metadata": {
        "id": "iGWwS6xMY9Of"
      },
      "execution_count": 16,
      "outputs": []
    },
    {
      "cell_type": "markdown",
      "source": [
        "2. Check for GPU"
      ],
      "metadata": {
        "id": "ZqkGUnoXZOj6"
      }
    },
    {
      "cell_type": "code",
      "source": [
        "device = 'cuda' if torch.cuda.is_available() else 'cpu'\n",
        "print(f\"Using device: {device}\")\n"
      ],
      "metadata": {
        "colab": {
          "base_uri": "https://localhost:8080/"
        },
        "id": "ic5JofFKY-H9",
        "outputId": "40a4d6a3-0157-453f-e76e-f983199a4602"
      },
      "execution_count": 17,
      "outputs": [
        {
          "output_type": "stream",
          "name": "stdout",
          "text": [
            "Using device: cpu\n"
          ]
        }
      ]
    },
    {
      "cell_type": "markdown",
      "source": [
        " 3. Load the FashionMNIST Dataset"
      ],
      "metadata": {
        "id": "GzvmUkoMZYPY"
      }
    },
    {
      "cell_type": "code",
      "source": [
        "training_data = datasets.FashionMNIST(\n",
        "    root=\"data\",\n",
        "    train=True,\n",
        "    download=True,\n",
        "    transform=ToTensor()\n",
        ")\n",
        "\n",
        "test_data = datasets.FashionMNIST(\n",
        "    root=\"data\",\n",
        "    train=False,\n",
        "    download=True,\n",
        "    transform=ToTensor()\n",
        ")\n"
      ],
      "metadata": {
        "id": "zmlrHkyhZLjP"
      },
      "execution_count": 18,
      "outputs": []
    },
    {
      "cell_type": "markdown",
      "source": [
        "4. Create Dataloaders"
      ],
      "metadata": {
        "id": "nAn99mePZf5b"
      }
    },
    {
      "cell_type": "code",
      "source": [
        "batch_size = 64\n",
        "train_dataloader = DataLoader(training_data, batch_size=batch_size)\n",
        "test_dataloader = DataLoader(test_data, batch_size=batch_size)\n"
      ],
      "metadata": {
        "id": "n9dXRgHhZaIg"
      },
      "execution_count": 19,
      "outputs": []
    },
    {
      "cell_type": "markdown",
      "source": [
        "5. Define the Neural Network"
      ],
      "metadata": {
        "id": "1MTvaA_4ZqB1"
      }
    },
    {
      "cell_type": "code",
      "source": [
        "class NeuralNetworks(nn.Module):\n",
        "    def __init__(self):\n",
        "        super(NeuralNetworks, self).__init__()\n",
        "        self.flatten = nn.Flatten()\n",
        "        self.linear_relu_stack = nn.Sequential(\n",
        "            nn.Linear(28*28, 512),\n",
        "            nn.ReLU(),\n",
        "            nn.Linear(512, 512),\n",
        "            nn.ReLU(),\n",
        "            nn.Linear(512, 10)\n",
        "        )\n",
        "\n",
        "    def forward(self, x):\n",
        "        x = self.flatten(x)  # Flattens 28x28 into 784\n",
        "        logits = self.linear_relu_stack(x)\n",
        "        return logits\n"
      ],
      "metadata": {
        "id": "xdstJykjZio_"
      },
      "execution_count": 20,
      "outputs": []
    },
    {
      "cell_type": "markdown",
      "source": [
        "6. Initialize Model, Loss, and Optimizer"
      ],
      "metadata": {
        "id": "WPcklkNdZxTk"
      }
    },
    {
      "cell_type": "code",
      "source": [
        "model = NeuralNetworks().to(device)\n",
        "loss_fn = nn.CrossEntropyLoss()\n",
        "optimizer = torch.optim.SGD(model.parameters(), lr=1e-3)\n"
      ],
      "metadata": {
        "id": "Dwnqs9g9Zwa3"
      },
      "execution_count": 21,
      "outputs": []
    },
    {
      "cell_type": "markdown",
      "source": [
        "7. Define Training Loop"
      ],
      "metadata": {
        "id": "90yk5gk8Z54f"
      }
    },
    {
      "cell_type": "code",
      "source": [
        "def train(dataloader, model, loss_fn, optimizer):\n",
        "    size = len(dataloader.dataset)\n",
        "    model.train()  # set model to training mode\n",
        "\n",
        "    for batch, (X, y) in enumerate(dataloader):\n",
        "        X, y = X.to(device), y.to(device)\n",
        "\n",
        "        pred = model(X)  # forward pass\n",
        "        loss = loss_fn(pred, y)  # calculate loss\n",
        "\n",
        "        optimizer.zero_grad()  # clear previous gradients\n",
        "        loss.backward()        # backpropagate\n",
        "        optimizer.step()       # update weights\n",
        "\n",
        "        if batch % 100 == 0:\n",
        "            current = batch * len(X)\n",
        "            print(f\"Loss: {loss.item():>7f}  [{current:>5d}/{size:>5d}]\")\n"
      ],
      "metadata": {
        "id": "S5ZvGk6qZ0pL"
      },
      "execution_count": 22,
      "outputs": []
    },
    {
      "cell_type": "markdown",
      "source": [
        " 8. Define Test Loop"
      ],
      "metadata": {
        "id": "QI2MGoiSaBDF"
      }
    },
    {
      "cell_type": "code",
      "source": [
        "def test(dataloader, model, loss_fn):\n",
        "    size = len(dataloader.dataset)\n",
        "    num_batches = len(dataloader)\n",
        "    model.eval()  # evaluation mode\n",
        "\n",
        "    test_loss, correct = 0, 0\n",
        "\n",
        "    with torch.no_grad():\n",
        "        for X, y in dataloader:\n",
        "            X, y = X.to(device), y.to(device)\n",
        "            pred = model(X)\n",
        "            test_loss += loss_fn(pred, y).item()\n",
        "            correct += (pred.argmax(1) == y).type(torch.float).sum().item()\n",
        "\n",
        "    test_loss /= num_batches\n",
        "    correct /= size\n",
        "    print(f\"Test Accuracy: {(100*correct):>0.1f}%  Avg loss: {test_loss:.6f}\")\n"
      ],
      "metadata": {
        "id": "BcOJm6yOZ85f"
      },
      "execution_count": 23,
      "outputs": []
    },
    {
      "cell_type": "markdown",
      "source": [
        "9. Train the Model for Multiple Epochs"
      ],
      "metadata": {
        "id": "M1YxLmZraH7C"
      }
    },
    {
      "cell_type": "code",
      "source": [
        "epochs = 10\n",
        "for t in range(epochs):\n",
        "    print(f\"Epoch {t+1}\\n-------------------------------\")\n",
        "    train(train_dataloader, model, loss_fn, optimizer)\n",
        "    test(test_dataloader, model, loss_fn)\n",
        "print(\"Training done.\")\n"
      ],
      "metadata": {
        "colab": {
          "base_uri": "https://localhost:8080/"
        },
        "id": "5U_4YEY2aEfr",
        "outputId": "8a5c3ba5-3457-47a9-c1c7-dbcd652acddb"
      },
      "execution_count": 24,
      "outputs": [
        {
          "output_type": "stream",
          "name": "stdout",
          "text": [
            "Epoch 1\n",
            "-------------------------------\n",
            "Loss: 2.310379  [    0/60000]\n",
            "Loss: 2.290962  [ 6400/60000]\n",
            "Loss: 2.270978  [12800/60000]\n",
            "Loss: 2.258363  [19200/60000]\n",
            "Loss: 2.249931  [25600/60000]\n",
            "Loss: 2.220146  [32000/60000]\n",
            "Loss: 2.225662  [38400/60000]\n",
            "Loss: 2.196443  [44800/60000]\n",
            "Loss: 2.191933  [51200/60000]\n",
            "Loss: 2.158610  [57600/60000]\n",
            "Test Accuracy: 47.6%  Avg loss: 2.155621\n",
            "Epoch 2\n",
            "-------------------------------\n",
            "Loss: 2.168332  [    0/60000]\n",
            "Loss: 2.158195  [ 6400/60000]\n",
            "Loss: 2.102606  [12800/60000]\n",
            "Loss: 2.113450  [19200/60000]\n",
            "Loss: 2.068285  [25600/60000]\n",
            "Loss: 2.009906  [32000/60000]\n",
            "Loss: 2.035776  [38400/60000]\n",
            "Loss: 1.966199  [44800/60000]\n",
            "Loss: 1.973034  [51200/60000]\n",
            "Loss: 1.893308  [57600/60000]\n",
            "Test Accuracy: 60.4%  Avg loss: 1.900723\n",
            "Epoch 3\n",
            "-------------------------------\n",
            "Loss: 1.935617  [    0/60000]\n",
            "Loss: 1.908582  [ 6400/60000]\n",
            "Loss: 1.796683  [12800/60000]\n",
            "Loss: 1.824242  [19200/60000]\n",
            "Loss: 1.718220  [25600/60000]\n",
            "Loss: 1.678196  [32000/60000]\n",
            "Loss: 1.692912  [38400/60000]\n",
            "Loss: 1.606366  [44800/60000]\n",
            "Loss: 1.630216  [51200/60000]\n",
            "Loss: 1.512119  [57600/60000]\n",
            "Test Accuracy: 61.9%  Avg loss: 1.538937\n",
            "Epoch 4\n",
            "-------------------------------\n",
            "Loss: 1.607394  [    0/60000]\n",
            "Loss: 1.575873  [ 6400/60000]\n",
            "Loss: 1.424270  [12800/60000]\n",
            "Loss: 1.478896  [19200/60000]\n",
            "Loss: 1.357598  [25600/60000]\n",
            "Loss: 1.365372  [32000/60000]\n",
            "Loss: 1.371844  [38400/60000]\n",
            "Loss: 1.307245  [44800/60000]\n",
            "Loss: 1.336958  [51200/60000]\n",
            "Loss: 1.225656  [57600/60000]\n",
            "Test Accuracy: 64.0%  Avg loss: 1.260091\n",
            "Epoch 5\n",
            "-------------------------------\n",
            "Loss: 1.336335  [    0/60000]\n",
            "Loss: 1.326841  [ 6400/60000]\n",
            "Loss: 1.154521  [12800/60000]\n",
            "Loss: 1.245618  [19200/60000]\n",
            "Loss: 1.118561  [25600/60000]\n",
            "Loss: 1.153922  [32000/60000]\n",
            "Loss: 1.171133  [38400/60000]\n",
            "Loss: 1.118306  [44800/60000]\n",
            "Loss: 1.149978  [51200/60000]\n",
            "Loss: 1.056591  [57600/60000]\n",
            "Test Accuracy: 64.9%  Avg loss: 1.087033\n",
            "Epoch 6\n",
            "-------------------------------\n",
            "Loss: 1.153946  [    0/60000]\n",
            "Loss: 1.169595  [ 6400/60000]\n",
            "Loss: 0.978834  [12800/60000]\n",
            "Loss: 1.102670  [19200/60000]\n",
            "Loss: 0.974974  [25600/60000]\n",
            "Loss: 1.014625  [32000/60000]\n",
            "Loss: 1.049241  [38400/60000]\n",
            "Loss: 1.000331  [44800/60000]\n",
            "Loss: 1.030986  [51200/60000]\n",
            "Loss: 0.952790  [57600/60000]\n",
            "Test Accuracy: 65.8%  Avg loss: 0.978475\n",
            "Epoch 7\n",
            "-------------------------------\n",
            "Loss: 1.031274  [    0/60000]\n",
            "Loss: 1.070141  [ 6400/60000]\n",
            "Loss: 0.861706  [12800/60000]\n",
            "Loss: 1.010177  [19200/60000]\n",
            "Loss: 0.887396  [25600/60000]\n",
            "Loss: 0.919401  [32000/60000]\n",
            "Loss: 0.971656  [38400/60000]\n",
            "Loss: 0.924997  [44800/60000]\n",
            "Loss: 0.950747  [51200/60000]\n",
            "Loss: 0.883957  [57600/60000]\n",
            "Test Accuracy: 66.9%  Avg loss: 0.906251\n",
            "Epoch 8\n",
            "-------------------------------\n",
            "Loss: 0.943991  [    0/60000]\n",
            "Loss: 1.002328  [ 6400/60000]\n",
            "Loss: 0.779112  [12800/60000]\n",
            "Loss: 0.946212  [19200/60000]\n",
            "Loss: 0.830027  [25600/60000]\n",
            "Loss: 0.851271  [32000/60000]\n",
            "Loss: 0.918056  [38400/60000]\n",
            "Loss: 0.874977  [44800/60000]\n",
            "Loss: 0.893934  [51200/60000]\n",
            "Loss: 0.834565  [57600/60000]\n",
            "Test Accuracy: 68.0%  Avg loss: 0.855038\n",
            "Epoch 9\n",
            "-------------------------------\n",
            "Loss: 0.878145  [    0/60000]\n",
            "Loss: 0.952207  [ 6400/60000]\n",
            "Loss: 0.717680  [12800/60000]\n",
            "Loss: 0.899431  [19200/60000]\n",
            "Loss: 0.789667  [25600/60000]\n",
            "Loss: 0.800918  [32000/60000]\n",
            "Loss: 0.877947  [38400/60000]\n",
            "Loss: 0.840441  [44800/60000]\n",
            "Loss: 0.852184  [51200/60000]\n",
            "Loss: 0.797104  [57600/60000]\n",
            "Test Accuracy: 68.9%  Avg loss: 0.816637\n",
            "Epoch 10\n",
            "-------------------------------\n",
            "Loss: 0.826177  [    0/60000]\n",
            "Loss: 0.912182  [ 6400/60000]\n",
            "Loss: 0.669978  [12800/60000]\n",
            "Loss: 0.863882  [19200/60000]\n",
            "Loss: 0.759187  [25600/60000]\n",
            "Loss: 0.762564  [32000/60000]\n",
            "Loss: 0.846048  [38400/60000]\n",
            "Loss: 0.815253  [44800/60000]\n",
            "Loss: 0.820032  [51200/60000]\n",
            "Loss: 0.767187  [57600/60000]\n",
            "Test Accuracy: 70.5%  Avg loss: 0.786292\n",
            "Training done.\n"
          ]
        }
      ]
    },
    {
      "cell_type": "markdown",
      "source": [
        "10. Save and Load the Model"
      ],
      "metadata": {
        "id": "DDq1TGOLaO-j"
      }
    },
    {
      "cell_type": "code",
      "source": [
        "torch.save(model.state_dict(), \"model.pth\")\n",
        "print(\"Model saved.\")\n",
        "\n",
        "model = NeuralNetworks()\n",
        "model.load_state_dict(torch.load(\"model.pth\"))\n",
        "model.eval()\n"
      ],
      "metadata": {
        "colab": {
          "base_uri": "https://localhost:8080/"
        },
        "id": "bBOxW_YTaKdb",
        "outputId": "e356b2db-3f76-42ee-b438-f93d53f000b6"
      },
      "execution_count": 25,
      "outputs": [
        {
          "output_type": "stream",
          "name": "stdout",
          "text": [
            "Model saved.\n"
          ]
        },
        {
          "output_type": "execute_result",
          "data": {
            "text/plain": [
              "NeuralNetworks(\n",
              "  (flatten): Flatten(start_dim=1, end_dim=-1)\n",
              "  (linear_relu_stack): Sequential(\n",
              "    (0): Linear(in_features=784, out_features=512, bias=True)\n",
              "    (1): ReLU()\n",
              "    (2): Linear(in_features=512, out_features=512, bias=True)\n",
              "    (3): ReLU()\n",
              "    (4): Linear(in_features=512, out_features=10, bias=True)\n",
              "  )\n",
              ")"
            ]
          },
          "metadata": {},
          "execution_count": 25
        }
      ]
    },
    {
      "cell_type": "markdown",
      "source": [
        "11.Define class labels"
      ],
      "metadata": {
        "id": "c-MirKSmdDa8"
      }
    },
    {
      "cell_type": "code",
      "source": [
        "\n",
        "classes = [\n",
        "    \"T-shirt/top\", \"Trouser\", \"Pullover\", \"Dress\", \"Coat\",\n",
        "    \"Sandal\", \"Shirt\", \"Sneaker\", \"Bag\", \"Ankle boot\"\n",
        "]"
      ],
      "metadata": {
        "id": "vnTtD3DcdAVZ"
      },
      "execution_count": 26,
      "outputs": []
    },
    {
      "cell_type": "markdown",
      "source": [
        "12. Make a Prediction"
      ],
      "metadata": {
        "id": "4z2ZFaJ-cjSA"
      }
    },
    {
      "cell_type": "code",
      "source": [
        "x, y = test_data[0][0], test_data[0][1]\n",
        "with torch.no_grad():\n",
        "    pred = model(x)\n",
        "    predicted, actual = classes[pred[0].argmax(0)], classes[y]\n",
        "    print(f'Predicted: \"{predicted}\", Actual: \"{actual}\"')\n"
      ],
      "metadata": {
        "colab": {
          "base_uri": "https://localhost:8080/"
        },
        "id": "lPC1ZZnVbqvb",
        "outputId": "69b3631e-22a1-4476-ade8-6ca9bd92409b"
      },
      "execution_count": 27,
      "outputs": [
        {
          "output_type": "stream",
          "name": "stdout",
          "text": [
            "Predicted: \"Ankle boot\", Actual: \"Ankle boot\"\n"
          ]
        }
      ]
    },
    {
      "cell_type": "markdown",
      "source": [
        "13. Visualize 16 Images from the Training Set"
      ],
      "metadata": {
        "id": "Qp5JZCMId2Gz"
      }
    },
    {
      "cell_type": "code",
      "source": [
        "for images, labels in train_dataloader:\n",
        "    break\n",
        "\n",
        "fig, axes = plt.subplots(4, 4, figsize=(10, 10))\n",
        "for i, ax in enumerate(axes.flat):\n",
        "    ax.imshow(images[i].squeeze(), cmap='gray')\n",
        "    ax.set_title(f\"Label: {classes[labels[i]]}\")\n",
        "    ax.axis('off')\n",
        "\n",
        "plt.tight_layout()\n",
        "plt.show()\n"
      ],
      "metadata": {
        "colab": {
          "base_uri": "https://localhost:8080/",
          "height": 894
        },
        "id": "MgTJaGq0cmCa",
        "outputId": "984e04e5-604b-4ecd-a301-3d0655b74643"
      },
      "execution_count": 28,
      "outputs": [
        {
          "output_type": "display_data",
          "data": {
            "text/plain": [
              "<Figure size 1000x1000 with 16 Axes>"
            ],
            "image/png": "[encoded data removed]"
          },
          "metadata": {}
        }
      ]
    },
    {
      "cell_type": "code",
      "source": [],
      "metadata": {
        "id": "Fskf-ZFHdeS2"
      },
      "execution_count": null,
      "outputs": []
    }
  ]
}